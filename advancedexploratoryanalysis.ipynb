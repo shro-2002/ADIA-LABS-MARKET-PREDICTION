{
 "cells": [
  {
   "cell_type": "code",
   "execution_count": 1,
   "metadata": {},
   "outputs": [
    {
     "name": "stdout",
     "output_type": "stream",
     "text": [
      "Requirement already satisfied: crunch-cli in c:\\users\\kiit\\anaconda3\\lib\\site-packages (1.5.1)\n",
      "Requirement already satisfied: requests in c:\\users\\kiit\\anaconda3\\lib\\site-packages (from crunch-cli) (2.26.0)\n",
      "Requirement already satisfied: joblib in c:\\users\\kiit\\anaconda3\\lib\\site-packages (from crunch-cli) (1.1.1)\n",
      "Requirement already satisfied: tqdm in c:\\users\\kiit\\anaconda3\\lib\\site-packages (from crunch-cli) (4.64.1)\n",
      "Requirement already satisfied: gitignorefile in c:\\users\\kiit\\anaconda3\\lib\\site-packages (from crunch-cli) (1.1.2)\n",
      "Requirement already satisfied: astor in c:\\users\\kiit\\anaconda3\\lib\\site-packages (from crunch-cli) (0.8.1)\n",
      "Requirement already satisfied: psutil in c:\\users\\kiit\\anaconda3\\lib\\site-packages (from crunch-cli) (5.9.0)\n",
      "Requirement already satisfied: click in c:\\users\\kiit\\anaconda3\\lib\\site-packages (from crunch-cli) (8.0.4)\n",
      "Requirement already satisfied: requirements-parser in c:\\users\\kiit\\anaconda3\\lib\\site-packages (from crunch-cli) (0.5.0)\n",
      "Requirement already satisfied: pyarrow in c:\\users\\kiit\\anaconda3\\lib\\site-packages (from crunch-cli) (12.0.0)\n",
      "Requirement already satisfied: coloredlogs in c:\\users\\kiit\\anaconda3\\lib\\site-packages (from crunch-cli) (15.0.1)\n",
      "Requirement already satisfied: pandas in c:\\users\\kiit\\anaconda3\\lib\\site-packages (from crunch-cli) (1.3.3)\n",
      "Requirement already satisfied: colorama in c:\\users\\kiit\\anaconda3\\lib\\site-packages (from click->crunch-cli) (0.4.5)\n",
      "Requirement already satisfied: humanfriendly>=9.1 in c:\\users\\kiit\\anaconda3\\lib\\site-packages (from coloredlogs->crunch-cli) (10.0)\n",
      "Requirement already satisfied: python-dateutil>=2.7.3 in c:\\users\\kiit\\anaconda3\\lib\\site-packages (from pandas->crunch-cli) (2.8.2)\n",
      "Requirement already satisfied: numpy>=1.17.3 in c:\\users\\kiit\\anaconda3\\lib\\site-packages (from pandas->crunch-cli) (1.23.5)\n",
      "Requirement already satisfied: pytz>=2017.3 in c:\\users\\kiit\\anaconda3\\lib\\site-packages (from pandas->crunch-cli) (2023.3)\n",
      "Requirement already satisfied: charset-normalizer~=2.0.0 in c:\\users\\kiit\\anaconda3\\lib\\site-packages (from requests->crunch-cli) (2.0.4)\n",
      "Requirement already satisfied: urllib3<1.27,>=1.21.1 in c:\\users\\kiit\\anaconda3\\lib\\site-packages (from requests->crunch-cli) (1.26.12)\n",
      "Requirement already satisfied: certifi>=2017.4.17 in c:\\users\\kiit\\anaconda3\\lib\\site-packages (from requests->crunch-cli) (2022.12.7)\n",
      "Requirement already satisfied: idna<4,>=2.5 in c:\\users\\kiit\\anaconda3\\lib\\site-packages (from requests->crunch-cli) (3.4)\n",
      "Requirement already satisfied: types-setuptools>=57.0.0 in c:\\users\\kiit\\anaconda3\\lib\\site-packages (from requirements-parser->crunch-cli) (67.8.0.0)\n",
      "Requirement already satisfied: pyreadline3 in c:\\users\\kiit\\anaconda3\\lib\\site-packages (from humanfriendly>=9.1->coloredlogs->crunch-cli) (3.4.1)\n",
      "Requirement already satisfied: six>=1.5 in c:\\users\\kiit\\anaconda3\\lib\\site-packages (from python-dateutil>=2.7.3->pandas->crunch-cli) (1.16.0)\n"
     ]
    },
    {
     "name": "stderr",
     "output_type": "stream",
     "text": [
      "WARNING: Ignoring invalid distribution -lotly (c:\\users\\kiit\\anaconda3\\lib\\site-packages)\n",
      "WARNING: Ignoring invalid distribution -lotly (c:\\users\\kiit\\anaconda3\\lib\\site-packages)\n",
      "WARNING: Ignoring invalid distribution -lotly (c:\\users\\kiit\\anaconda3\\lib\\site-packages)\n",
      "WARNING: Ignoring invalid distribution -lotly (c:\\users\\kiit\\anaconda3\\lib\\site-packages)\n",
      "WARNING: Ignoring invalid distribution -lotly (c:\\users\\kiit\\anaconda3\\lib\\site-packages)\n",
      "WARNING: Ignoring invalid distribution -lotly (c:\\users\\kiit\\anaconda3\\lib\\site-packages)\n"
     ]
    }
   ],
   "source": [
    "!pip3 install crunch-cli --upgrade"
   ]
  },
  {
   "cell_type": "code",
   "execution_count": 2,
   "metadata": {},
   "outputs": [
    {
     "name": "stdout",
     "output_type": "stream",
     "text": [
      "loaded inline runner with module: <module '__main__'>\n"
     ]
    }
   ],
   "source": [
    "# import and instantiante the crunch package in this notebook\n",
    "import crunch\n",
    "crunch = crunch.load_notebook(__name__)"
   ]
  },
  {
   "cell_type": "code",
   "execution_count": null,
   "metadata": {},
   "outputs": [],
   "source": [
    "%pip install crunch-cli --upgrade\n",
    "!crunch --notebook setup wise-shroddha --token nAlH7EXp66w2xV5r5yUxfcmL4lsaHcRRt9KEpkZgd51DEaSmvh935UM221OqlUh6\n",
    "%cd wise-shroddha"
   ]
  }
 ],
 "metadata": {
  "kernelspec": {
   "display_name": "base",
   "language": "python",
   "name": "python3"
  },
  "language_info": {
   "codemirror_mode": {
    "name": "ipython",
    "version": 3
   },
   "file_extension": ".py",
   "mimetype": "text/x-python",
   "name": "python",
   "nbconvert_exporter": "python",
   "pygments_lexer": "ipython3",
   "version": "3.9.13"
  },
  "orig_nbformat": 4
 },
 "nbformat": 4,
 "nbformat_minor": 2
}
